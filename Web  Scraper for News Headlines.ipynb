{
 "cells": [
  {
   "cell_type": "code",
   "execution_count": 1,
   "id": "fddacec8-5c9b-46fc-acc5-2b7feee49428",
   "metadata": {},
   "outputs": [
    {
     "name": "stdout",
     "output_type": "stream",
     "text": [
      "Headlines saved to news_headlines.txt\n"
     ]
    }
   ],
   "source": [
    "import requests\n",
    "from bs4 import BeautifulSoup\n",
    "from datetime import datetime\n",
    "\n",
    "# Step 1: Fetch the webpage\n",
    "url = \"https://www.bbc.com/news\"\n",
    "response = requests.get(url)\n",
    "\n",
    "# Step 2: Parse HTML content\n",
    "soup = BeautifulSoup(response.text, \"html.parser\")\n",
    "\n",
    "# Step 3: Find headlines (BBC uses <h2> for many headlines)\n",
    "headlines = soup.find_all(\"h2\")\n",
    "\n",
    "# Step 4: Save headlines into a file with timestamp\n",
    "filename = \"news_headlines.txt\"\n",
    "with open(filename, \"a\", encoding=\"utf-8\") as f:\n",
    "    f.write(\"\\n--- Headlines collected on \" + str(datetime.now()) + \" ---\\n\")\n",
    "    for h in headlines:\n",
    "        title = h.get_text(strip=True)\n",
    "        f.write(title + \"\\n\")\n",
    "\n",
    "print(f\"Headlines saved to {filename}\")"
   ]
  },
  {
   "cell_type": "code",
   "execution_count": null,
   "id": "d36d4639-89db-4598-b771-cc58f9ce6d3f",
   "metadata": {},
   "outputs": [],
   "source": []
  }
 ],
 "metadata": {
  "kernelspec": {
   "display_name": "Python 3 (ipykernel)",
   "language": "python",
   "name": "python3"
  },
  "language_info": {
   "codemirror_mode": {
    "name": "ipython",
    "version": 3
   },
   "file_extension": ".py",
   "mimetype": "text/x-python",
   "name": "python",
   "nbconvert_exporter": "python",
   "pygments_lexer": "ipython3",
   "version": "3.13.7"
  }
 },
 "nbformat": 4,
 "nbformat_minor": 5
}
